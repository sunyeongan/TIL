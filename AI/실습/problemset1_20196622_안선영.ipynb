{
 "cells": [
  {
   "cell_type": "markdown",
   "metadata": {},
   "source": [
    "# 유용한 강좌\n",
    "- [CS229 tutorial 한글번역](http://aikorea.org/cs231n/python-numpy-tutorial/)\n",
    "- \n",
    "[Scipy-lectures](https://scipy-lectures.org/)\n",
    "    - [Numpy](https://scipy-lectures.org/intro/numpy/index.html)\n",
    "    - [Operations](https://scipy-lectures.org/intro/numpy/operations.html)"
   ]
  },
  {
   "cell_type": "markdown",
   "metadata": {},
   "source": [
    "# 0. 사전준비\n",
    "`import`를 잊지 마세요!"
   ]
  },
  {
   "cell_type": "code",
   "execution_count": 2,
   "metadata": {},
   "outputs": [],
   "source": [
    "import numpy as np"
   ]
  },
  {
   "cell_type": "markdown",
   "metadata": {},
   "source": [
    "# 1. 행렬\n",
    "\n",
    "* 다음 $A\\in \\mathbb{R}^{3\\times 4}$ 행렬을 고려합시다:\n",
    "\\begin{align*}\n",
    "A = \\begin{bmatrix}\n",
    "1 & 2 & 3 & 4 \\\\\n",
    "11 & 12 & 10 & 14 \\\\\n",
    "6 & 7 & 4 & 20 \n",
    "\\end{bmatrix}\n",
    "\\end{align*}\n",
    "\n",
    "* $A$ 행렬의 각 column (열)을 $a^{(i)}\\in \\mathbb{R}^3$이라고 하겠습니다. 즉, \n",
    "\\begin{align*}\n",
    "A = \\begin{bmatrix}\n",
    "a^{(1)} & a^{(2)} & a^{(3)} & a^{(4)} \n",
    "\\end{bmatrix}\n",
    "\\end{align*}\n",
    "과 같이 표현 됩니다. 더 자세하게 한번더 설명하자면\n",
    "\\begin{align*}\n",
    "a^{(1)} = \\begin{bmatrix}\n",
    "1\\\\\n",
    "11\\\\\n",
    "6\n",
    "\\end{bmatrix}, \\quad\n",
    "a^{(2)} = \\begin{bmatrix}\n",
    "2\\\\\n",
    "12\\\\\n",
    "7\n",
    "\\end{bmatrix}, \\quad \\ldots \\quad,\n",
    "a^{(4)} = \\begin{bmatrix}\n",
    "4\\\\\n",
    "14\\\\\n",
    "20\n",
    "\\end{bmatrix}\n",
    "\\end{align*}\n"
   ]
  },
  {
   "cell_type": "markdown",
   "metadata": {},
   "source": [
    "## Problem 1\n",
    "\n",
    "1. $A$ 행렬을 (3,4) ndarray로 만들어서 `A`라는 변수로 저장하세요. List에 직접 숫자를 기입하여 ndarray로 변환할 것\n"
   ]
  },
  {
   "cell_type": "code",
   "execution_count": 41,
   "metadata": {},
   "outputs": [
    {
     "name": "stdout",
     "output_type": "stream",
     "text": [
      "A= [[ 1  2  3  4]\n",
      " [11 12 10 14]\n",
      " [ 6  7  4 20]]\n",
      "A.shape= (3, 4)\n"
     ]
    }
   ],
   "source": [
    "# 1-1 답\n",
    "\n",
    "A = np.array([[1,2,3,4],[11,12,10,14],[6,7,4,20]])\n",
    "\n",
    "print('A=', A)\n",
    "print('A.shape=', A.shape)"
   ]
  },
  {
   "cell_type": "markdown",
   "metadata": {},
   "source": [
    "연습. 행렬 (벡터)의 전치 연습\n",
    "위 $A$ 행렬의 전치를 `A.T`를 통해서 구하세요"
   ]
  },
  {
   "cell_type": "code",
   "execution_count": 8,
   "metadata": {},
   "outputs": [
    {
     "name": "stdout",
     "output_type": "stream",
     "text": [
      "A.T =  [[ 1 11  6]\n",
      " [ 2 12  7]\n",
      " [ 3 10  4]\n",
      " [ 4 14 20]]\n"
     ]
    }
   ],
   "source": [
    "A.T\n",
    "\n",
    "print('A.T = ', A.T)"
   ]
  },
  {
   "cell_type": "markdown",
   "metadata": {},
   "source": [
    "2. $a^{(1)}$, $a^{(2)}$, $a^{(3)}$, $a^{(4)}$ 벡터를 (3,1) ndarray로 만들어서 `a1`, `a2`, `a3`, `a4` 라는 변수로 저장하세요. \n",
    "- 직접 숫자를 기입하지 말고 `A[index]`와 같이 index를 활용하여 구하세요.\n",
    "- `a1`등의 차원이 column vector로 저장되도록 하세요 (reshape)\n"
   ]
  },
  {
   "cell_type": "code",
   "execution_count": 82,
   "metadata": {},
   "outputs": [
    {
     "data": {
      "text/plain": [
       "array([ 1, 11,  6])"
      ]
     },
     "execution_count": 82,
     "metadata": {},
     "output_type": "execute_result"
    }
   ],
   "source": [
    "a11 = np.hstack([A[0][0], A[1][0], A[2][0]])\n",
    "a11.shape\n",
    "a11\n",
    "#a11.reshape(3,1)\n"
   ]
  },
  {
   "cell_type": "code",
   "execution_count": 83,
   "metadata": {},
   "outputs": [
    {
     "name": "stdout",
     "output_type": "stream",
     "text": [
      "a1= [[ 1]\n",
      " [11]\n",
      " [ 6]]\n",
      "a2= [[ 2]\n",
      " [12]\n",
      " [ 7]]\n",
      "a3= [[ 3]\n",
      " [10]\n",
      " [ 4]]\n",
      "a4= [[ 4]\n",
      " [14]\n",
      " [20]]\n"
     ]
    }
   ],
   "source": [
    "# 1-2 답\n",
    "a1 = np.hstack([A[0][0], A[1][0], A[2][0]])\n",
    "a1 = a1.reshape(3,1)\n",
    "\n",
    "a2 = np.hstack([A[0][1], A[1][1], A[2][1]])\n",
    "a2 = a2.reshape(3,1)\n",
    "\n",
    "a3 = np.vstack([A[0][2], A[1][2], A[2][2]])\n",
    "a3 = a3.reshape(3,1)\n",
    "\n",
    "a4 = np.vstack([A[0][3], A[1][3], A[2][3]])\n",
    "a4 = a4.reshape(3,1)\n",
    "print('a1=', a1)\n",
    "print('a2=', a2)\n",
    "print('a3=', a3)\n",
    "print('a4=', a4)"
   ]
  },
  {
   "cell_type": "markdown",
   "metadata": {},
   "source": [
    "3. $a^{(1)}$의 전치 (transpose), 즉 $(a^{(1)})^T$를 구하세요"
   ]
  },
  {
   "cell_type": "code",
   "execution_count": 84,
   "metadata": {},
   "outputs": [
    {
     "name": "stdout",
     "output_type": "stream",
     "text": [
      "a1의 transpose =  [[ 1 11  6]]\n"
     ]
    }
   ],
   "source": [
    "# 1-3 답\n",
    "answer = a1.T\n",
    "print('a1의 transpose = ', answer)"
   ]
  },
  {
   "cell_type": "markdown",
   "metadata": {},
   "source": [
    "4. $B\\in \\mathbb{R}^{4\\times 3}$라는 행렬을 다음과 같이 정의합니다:\n",
    "\n",
    "\\begin{align*}\n",
    "B = \\begin{bmatrix}\n",
    "(a^{(1)})^T \\\\\n",
    "(a^{(2)})^T \\\\\n",
    "(a^{(3)})^T \\\\\n",
    "(a^{(4)})^T \n",
    "\\end{bmatrix}\n",
    "\\end{align*}\n",
    "\n",
    "위에서 구한 `a1`, `a2`, `a3`, `a4`를 이용하여 `B`라는 변수에 $B$ 행렬을 저장하세요. 전치와 `np.vstack`, `np.concatenate`등을 사용하세요."
   ]
  },
  {
   "cell_type": "code",
   "execution_count": 88,
   "metadata": {},
   "outputs": [
    {
     "name": "stdout",
     "output_type": "stream",
     "text": [
      "B =  [[ 1 11  6]\n",
      " [ 2 12  7]\n",
      " [ 3 10  4]\n",
      " [ 4 14 20]]\n",
      "B.shape =  (4, 3)\n"
     ]
    }
   ],
   "source": [
    "# 1-4 답\n",
    "B = np.vstack([a1.T,a2.T,a3.T,a4.T])\n",
    "print('B = ', B)\n",
    "print('B.shape = ', B.shape)"
   ]
  },
  {
   "cell_type": "markdown",
   "metadata": {},
   "source": [
    "(확인) $A^T = B$가 성립하나요? "
   ]
  },
  {
   "cell_type": "code",
   "execution_count": 86,
   "metadata": {},
   "outputs": [
    {
     "name": "stdout",
     "output_type": "stream",
     "text": [
      "Is A.T == B [[ True  True  True]\n",
      " [ True  True  True]\n",
      " [ True  True  True]\n",
      " [ True  True  True]]\n"
     ]
    }
   ],
   "source": [
    "print('Is A.T == B', A.T == B)"
   ]
  },
  {
   "cell_type": "markdown",
   "metadata": {},
   "source": [
    "# 2. 행렬의 곱\n",
    "\n",
    "* 행렬 곱은 다음과 같은 함수를 사용합니다.\n",
    "\n",
    "`np.matmul(A, B)` 또는 `np.mm(A, B)`\n",
    "\n",
    "* 벡터 $a\\in\\mathbb{R}^n$, $b^\\in\\mathbb{R}^n$ 간의 내적\n",
    "\\begin{align*}\n",
    "a^Tb\n",
    "\\end{align*}\n",
    "은 $(1\\times n)$행렬과 $(n\\times 1)$행렬간의 '행렬곱' 일 뿐이라는 것을 잊지 마세요.\n",
    "\n",
    "* 즉, numpy에서는 내적을 위한 함수를 따로 정의하지 않습니다.\n",
    "\n",
    "* 아래 문제에서는 $x\\in\\mathbb{R}^3$ 벡터를 사용합니다. 아래셀에서 `x`라는 벡터로 정의됩니다\n"
   ]
  },
  {
   "cell_type": "code",
   "execution_count": 92,
   "metadata": {},
   "outputs": [
    {
     "name": "stdout",
     "output_type": "stream",
     "text": [
      "x= [[0.5]\n",
      " [0.3]\n",
      " [0.2]]\n",
      "x.shape= (3, 1)\n"
     ]
    }
   ],
   "source": [
    "x = np.array([0.5, 0.3, 0.2]).reshape(-1,1)\n",
    "print('x=', x)\n",
    "print('x.shape=', x.shape)"
   ]
  },
  {
   "cell_type": "markdown",
   "metadata": {},
   "source": [
    "# Problem 2"
   ]
  },
  {
   "cell_type": "markdown",
   "metadata": {},
   "source": [
    "1. 1번 문제에서 에서 구한 $a^{(i)}$, $i=1,2,3$과 $x$를 내적한 값을 각각 구하세요.\n",
    "\n",
    " - $(a^{(1)})^T x$는 `a1_ip_x`라는 변수에 저장\n",
    " - $(a^{(2)})^T x$는 `a2_ip_x`라는 변수에 저장\n",
    " - $(a^{(3)})^T x$는 `a3_ip_x`라는 변수에 저장\n",
    " - $(a^{(4)})^T x$는 `a4_ip_x`라는 변수에 저장"
   ]
  },
  {
   "cell_type": "code",
   "execution_count": 103,
   "metadata": {},
   "outputs": [
    {
     "name": "stdout",
     "output_type": "stream",
     "text": [
      "a1_ip_x= [[5.]]\n",
      "a2_ip_x= [[6.]]\n",
      "a3_ip_x= [[5.3]]\n",
      "a4_ip_x= [[10.2]]\n"
     ]
    }
   ],
   "source": [
    "# 2-1 답 작성\n",
    "a1_ip_x = np.matmul(a1.T,x)\n",
    "print('a1_ip_x=', a1_ip_x)\n",
    "\n",
    "a2_ip_x = np.matmul(a2.T,x)\n",
    "print('a2_ip_x=', a2_ip_x)\n",
    "\n",
    "a3_ip_x = np.matmul(a3.T,x)\n",
    "print('a3_ip_x=', a3_ip_x)\n",
    "\n",
    "a4_ip_x = np.matmul(a4.T,x)\n",
    "print('a4_ip_x=', a4_ip_x)"
   ]
  },
  {
   "cell_type": "markdown",
   "metadata": {},
   "source": [
    "2. 이번 문제의 목적은 \n",
    "\\begin{align*}\n",
    "Bx = \\begin{bmatrix}\n",
    "(a^{(1)})^Tx\\\\\n",
    "(a^{(2)})^Tx\\\\\n",
    "(a^{(3)})^Tx\\\\\n",
    "(a^{(4)})^Tx\n",
    "\\end{bmatrix}\n",
    "\\end{align*}\n",
    "를 확인하는데 있습니다. 즉, 좌변의 연산이 우변의 연산과 같다는 것을 확인하려는 것입니다. (글로 풀어서 얘기하면, 좌변의 정의는 두 행렬 ($B$와 $x$)의 행렬곱이고, 우변은 $B$ 행렬의 row vector들과 $x$벡터의 내적을 차례대로 한 것을 벡터로 저장한 것이죠).\n",
    "\n",
    "$Bx$를 구하고, `Bx`라는 변수에 저장하세요. `np.matmul`등을 활용하세요.\n"
   ]
  },
  {
   "cell_type": "code",
   "execution_count": 106,
   "metadata": {},
   "outputs": [
    {
     "name": "stdout",
     "output_type": "stream",
     "text": [
      "Bx= [[ 5. ]\n",
      " [ 6. ]\n",
      " [ 5.3]\n",
      " [10.2]]\n"
     ]
    }
   ],
   "source": [
    "# 2-2 답 작성\n",
    "\n",
    "B0_ip_x = np.matmul(B[0],x)\n",
    "B1_ip_x = np.matmul(B[1],x)\n",
    "B2_ip_x = np.matmul(B[2],x)\n",
    "B3_ip_x = np.matmul(B[3],x)\n",
    "\n",
    "Bx = np.vstack([B0_ip_x,B1_ip_x,B2_ip_x,B3_ip_x])\n",
    "\n",
    "\n",
    "print('Bx=', Bx)"
   ]
  },
  {
   "cell_type": "markdown",
   "metadata": {},
   "source": [
    "3. 2-1번에서 구한 `a1_ip_x`, `a2_ip_x`, `a3_ip_x`, `a4_ip_x`을 원소로하는 (4,1) ndarray를 만들고 `aTx`라는 이름으로 저장하세요 (`np.vstack` 또는 `np.concatenate` 활용하면 되겠죠?). \n",
    "아래를 확인하세요\n",
    "\n",
    "`Bx==aTx`"
   ]
  },
  {
   "cell_type": "code",
   "execution_count": 107,
   "metadata": {},
   "outputs": [
    {
     "name": "stdout",
     "output_type": "stream",
     "text": [
      "aTx =  [[ 5. ]\n",
      " [ 6. ]\n",
      " [ 5.3]\n",
      " [10.2]]\n",
      "aTx.shape =  (4, 1)\n"
     ]
    }
   ],
   "source": [
    "# 2-3 답 작성\n",
    "aTx = np.vstack([a1_ip_x,a2_ip_x,a3_ip_x,a4_ip_x])\n",
    "print('aTx = ', aTx)\n",
    "print('aTx.shape = ', aTx.shape)"
   ]
  },
  {
   "cell_type": "code",
   "execution_count": 108,
   "metadata": {},
   "outputs": [
    {
     "name": "stdout",
     "output_type": "stream",
     "text": [
      "Is Bx==aTx? [[ True]\n",
      " [ True]\n",
      " [ True]\n",
      " [ True]]\n"
     ]
    }
   ],
   "source": [
    "print('Is Bx==aTx?', Bx==aTx)"
   ]
  },
  {
   "cell_type": "markdown",
   "metadata": {},
   "source": [
    "(해석) 여러개의 내적 값을 하나하나 (또는 for loop을 통해서) 구하지 않고, `np.matmul` 함수 한줄로 구할 수 있답니다. 이는 실제 for loop을 통해서 여러개의 내적을 구하는 것보다 편리할 뿐만 아니라, 처리속도 또한 상당히 빠릅니다. 관심있는 학생은 random하게 여러개의 벡터를 구해서 for loop으로 내적한 총 시간과, `matmul`을 활용해서 계산한 시간을 비교해보세요."
   ]
  },
  {
   "cell_type": "markdown",
   "metadata": {},
   "source": [
    "4. 다음은 $B$ 행렬의 각 column들을 $b^{(i)}\\in\\mathbb{R}^{4\\times 1}$, $i=1,2,3$ 이라고 부르겠습니다. 앞으로 수업에서 아래와 같이 구조를 세세하게 알리지 않더라도 윗 글이 아래와 같은 것을 표현한다는 것을 다시한번 알아두도록 합시다:\n",
    "\n",
    "\\begin{align*}\n",
    "B = [b^{(1)}, b^{(2)}, b^{(3)}] = \\begin{bmatrix}\n",
    "1 & 11 & 6 \\\\\n",
    "2 & 12 & 7  \\\\\n",
    "3 & 10 & 4  \\\\\n",
    "4 & 14 & 20 \n",
    "\\end{bmatrix}\n",
    "\\end{align*}\n",
    "\n",
    "- $B$행렬의 각 column들을 $x$벡터의 원소를 계수로 선형 결합하세요. 즉, 다음을 구합니다:\n",
    "\n",
    "\\begin{align*}\n",
    "x_1 b^{(1)} + x_2 b^{(2)} + x_3 b^{(3)}\n",
    "\\end{align*}\n",
    "\n",
    "- 여기서 $x_i$, $i=1,2,3$은\n",
    "\\begin{align*}\n",
    "x = \\begin{bmatrix}\n",
    "x_1 \\\\\n",
    "x_2 \\\\\n",
    "x_3 \n",
    "\\end{bmatrix}\n",
    "\\end{align*}\n",
    "입니다.\n",
    "\n",
    "위 값을 `lincomb_B_by_x`라고 저장하세요. 역시 위에서 저장한 `B` 행렬과 `x` 벡터에 indexing을 활용하세요. 결정적인 힌트로 $b^{(1)}$은 `B[:,0]`를 활용하면 되겠지만, 다시 한번 강조하는 `shape`를 주의하세요. 마찬가지로 $x_1=$`x[0]`를 활용하면 되겠죠?"
   ]
  },
  {
   "cell_type": "code",
   "execution_count": 113,
   "metadata": {},
   "outputs": [
    {
     "name": "stdout",
     "output_type": "stream",
     "text": [
      "lincomb_B_by_x =  [[ 5. ]\n",
      " [ 6. ]\n",
      " [ 5.3]\n",
      " [10.2]]\n",
      "lincomb_B_by_x =  (4, 1)\n"
     ]
    }
   ],
   "source": [
    "# 2-4 답 작성\n",
    "lincomb_B_by_x = np.matmul(B[:5],x[:5])\n",
    "print('lincomb_B_by_x = ', lincomb_B_by_x)\n",
    "print('lincomb_B_by_x = ', lincomb_B_by_x.shape)"
   ]
  },
  {
   "cell_type": "markdown",
   "metadata": {},
   "source": [
    "(Check) 아래 수식이 성립하나요?\n",
    "\n",
    "\\begin{align*}\n",
    "Bx = x_1 b^{(1)} + x_2 b^{(2)} + x_3 b^{(3)}\n",
    "\\end{align*}"
   ]
  },
  {
   "cell_type": "code",
   "execution_count": 114,
   "metadata": {},
   "outputs": [
    {
     "name": "stdout",
     "output_type": "stream",
     "text": [
      "Is Bx == lincomb_B_by_x ? [[ True]\n",
      " [ True]\n",
      " [ True]\n",
      " [ True]]\n"
     ]
    }
   ],
   "source": [
    "print('Is Bx == lincomb_B_by_x ?', Bx == lincomb_B_by_x)"
   ]
  },
  {
   "cell_type": "code",
   "execution_count": null,
   "metadata": {},
   "outputs": [],
   "source": []
  }
 ],
 "metadata": {
  "kernelspec": {
   "display_name": "Python 3",
   "language": "python",
   "name": "python3"
  },
  "language_info": {
   "codemirror_mode": {
    "name": "ipython",
    "version": 3
   },
   "file_extension": ".py",
   "mimetype": "text/x-python",
   "name": "python",
   "nbconvert_exporter": "python",
   "pygments_lexer": "ipython3",
   "version": "3.8.5"
  }
 },
 "nbformat": 4,
 "nbformat_minor": 4
}
